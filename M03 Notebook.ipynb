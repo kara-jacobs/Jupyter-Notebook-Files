{
 "cells": [
  {
   "cell_type": "code",
   "execution_count": 19,
   "id": "7be19004",
   "metadata": {},
   "outputs": [
    {
     "name": "stdout",
     "output_type": "stream",
     "text": [
      "Exercise 7.4\n",
      "\n",
      "['mozzarella', 'cinderella', 'salmonella']\n"
     ]
    }
   ],
   "source": [
    "print(\"Exercise 7.4\")\n",
    "print(\"\")\n",
    "\n",
    "things = [\"mozzarella\", \"cinderella\", \"salmonella\"]\n",
    "\n",
    "print(things)"
   ]
  },
  {
   "cell_type": "code",
   "execution_count": 2,
   "id": "12a83f94",
   "metadata": {},
   "outputs": [
    {
     "name": "stdout",
     "output_type": "stream",
     "text": [
      "Exercise 7.5\n",
      "\n",
      "['mozzarella', 'Cinderella', 'salmonella']\n"
     ]
    }
   ],
   "source": [
    "print(\"Exercise 7.5\")\n",
    "print(\"\")\n",
    "\n",
    "things = [\"mozzarella\", \"cinderella\", \"salmonella\"]\n",
    "things[1] = things[1].title()\n",
    "\n",
    "print(things)"
   ]
  },
  {
   "cell_type": "markdown",
   "id": "4b7e46b0",
   "metadata": {},
   "source": [
    "Yes, capitalizing the cinderella element made it capitalized in the list."
   ]
  },
  {
   "cell_type": "code",
   "execution_count": 20,
   "id": "100fedf9",
   "metadata": {},
   "outputs": [
    {
     "name": "stdout",
     "output_type": "stream",
     "text": [
      "Exercise 7.6\n",
      "\n",
      "['MOZZARELLA', 'Cinderella', 'salmonella']\n"
     ]
    }
   ],
   "source": [
    "print(\"Exercise 7.6\")\n",
    "print(\"\")\n",
    "\n",
    "things = [\"mozzarella\", \"cinderella\", \"salmonella\"]\n",
    "things[1] = things[1].title()\n",
    "things[0] = things[0].upper()\n",
    "\n",
    "print(things)"
   ]
  },
  {
   "cell_type": "code",
   "execution_count": 21,
   "id": "9a951de9",
   "metadata": {},
   "outputs": [
    {
     "name": "stdout",
     "output_type": "stream",
     "text": [
      "Exercise 7.7\n",
      "\n",
      "['MOZZARELLA', 'Cinderella']\n"
     ]
    }
   ],
   "source": [
    "print(\"Exercise 7.7\")\n",
    "print(\"\")\n",
    "\n",
    "things = [\"mozzarella\", \"cinderella\", \"salmonella\"]\n",
    "things[1] = things[1].title()\n",
    "things[0] = things[0].upper()\n",
    "del things[-1]\n",
    "\n",
    "print(things)"
   ]
  },
  {
   "cell_type": "code",
   "execution_count": 22,
   "id": "68dcc04b",
   "metadata": {},
   "outputs": [
    {
     "name": "stdout",
     "output_type": "stream",
     "text": [
      "Exercise 9.1\n",
      "\n"
     ]
    },
    {
     "data": {
      "text/plain": [
       "['Harry', 'Ron', 'Hermione']"
      ]
     },
     "execution_count": 22,
     "metadata": {},
     "output_type": "execute_result"
    }
   ],
   "source": [
    "print(\"Exercise 9.1\")\n",
    "print(\"\")\n",
    "\n",
    "def good():\n",
    "    characters = [\"Harry\",\"Ron\",\"Hermione\"]\n",
    "    return characters\n",
    "\n",
    "good()"
   ]
  },
  {
   "cell_type": "code",
   "execution_count": 23,
   "id": "3d7e2de6",
   "metadata": {},
   "outputs": [
    {
     "name": "stdout",
     "output_type": "stream",
     "text": [
      "Exercise 9.2\n",
      "\n",
      "The odd numbers from range(10) are: [1, 3, 5, 7, 9]\n",
      "The third value is: 5\n"
     ]
    }
   ],
   "source": [
    "print(\"Exercise 9.2\")\n",
    "print(\"\")\n",
    "\n",
    "def get_odds():\n",
    "    data = [number for number in range(10) if number % 2 == 1]\n",
    "    print(\"The odd numbers from range(10) are:\", data)\n",
    "    for number in data:\n",
    "        if number == data[2]:\n",
    "            print(\"The third value is:\", number)\n",
    "    \n",
    "get_odds()"
   ]
  },
  {
   "cell_type": "code",
   "execution_count": null,
   "id": "b2def501",
   "metadata": {},
   "outputs": [],
   "source": []
  }
 ],
 "metadata": {
  "kernelspec": {
   "display_name": "Python 3 (ipykernel)",
   "language": "python",
   "name": "python3"
  },
  "language_info": {
   "codemirror_mode": {
    "name": "ipython",
    "version": 3
   },
   "file_extension": ".py",
   "mimetype": "text/x-python",
   "name": "python",
   "nbconvert_exporter": "python",
   "pygments_lexer": "ipython3",
   "version": "3.10.9"
  }
 },
 "nbformat": 4,
 "nbformat_minor": 5
}
