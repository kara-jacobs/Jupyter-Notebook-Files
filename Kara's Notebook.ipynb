{
 "cells": [
  {
   "cell_type": "code",
   "execution_count": 4,
   "id": "2da59324",
   "metadata": {},
   "outputs": [
    {
     "name": "stdout",
     "output_type": "stream",
     "text": [
      "Exercise 3.1\n",
      "The product is: 3600\n"
     ]
    }
   ],
   "source": [
    "product = 60 * 60\n",
    "print(\"Exercise 3.1\")\n",
    "print(\"The product is: \" + str(product))"
   ]
  },
  {
   "cell_type": "code",
   "execution_count": 9,
   "id": "ba1769c2",
   "metadata": {},
   "outputs": [
    {
     "name": "stdout",
     "output_type": "stream",
     "text": [
      "Exercise 3.2\n",
      "There are 3600 seconds per hour.\n"
     ]
    }
   ],
   "source": [
    "seconds_per_hour = 60 * 60\n",
    "print(\"Exercise 3.2\")\n",
    "print(\"There are \" + str(seconds_per_hour) + \" seconds per hour.\")"
   ]
  },
  {
   "cell_type": "code",
   "execution_count": 13,
   "id": "aa75b452",
   "metadata": {},
   "outputs": [
    {
     "name": "stdout",
     "output_type": "stream",
     "text": [
      "Exercise 3.3\n",
      "There are 86400 seconds per day.\n"
     ]
    }
   ],
   "source": [
    "seconds_per_day = 24 * c\n",
    "print(\"Exercise 3.3\")\n",
    "print(\"There are \" + str(seconds_per_day) + \" seconds per day.\")"
   ]
  },
  {
   "cell_type": "code",
   "execution_count": 14,
   "id": "676a557e",
   "metadata": {},
   "outputs": [
    {
     "name": "stdout",
     "output_type": "stream",
     "text": [
      "Exercise 3.4\n",
      "There are 86400 seconds per day.\n"
     ]
    }
   ],
   "source": [
    "seconds_per_day = 60 * 60 * 24\n",
    "print(\"Exercise 3.4\")\n",
    "print(\"There are \" + str(seconds_per_day) + \" seconds per day.\")"
   ]
  },
  {
   "cell_type": "code",
   "execution_count": 15,
   "id": "6ebfa319",
   "metadata": {},
   "outputs": [
    {
     "name": "stdout",
     "output_type": "stream",
     "text": [
      "Exercise 3.5\n",
      "The seconds in a day divided by the seconds in an hour equals: 24.0\n"
     ]
    }
   ],
   "source": [
    "quotient = seconds_per_day / seconds_per_hour\n",
    "print(\"Exercise 3.5\")\n",
    "print(\"The seconds in a day divided by the seconds in an hour equals: \" + str(quotient))"
   ]
  },
  {
   "cell_type": "code",
   "execution_count": 16,
   "id": "4a6bdb45",
   "metadata": {},
   "outputs": [
    {
     "name": "stdout",
     "output_type": "stream",
     "text": [
      "Exercise 3.6\n",
      "The seconds in a day divided by the seconds in an hour equals: 24\n",
      "The results agree with Exercise 3.5\n"
     ]
    }
   ],
   "source": [
    "quotient = seconds_per_day // seconds_per_hour\n",
    "print(\"Exercise 3.6\")\n",
    "print(\"The seconds in a day divided by the seconds in an hour equals: \" + str(quotient))\n",
    "print(\"The results agree with Exercise 3.5\")"
   ]
  }
 ],
 "metadata": {
  "kernelspec": {
   "display_name": "Python 3 (ipykernel)",
   "language": "python",
   "name": "python3"
  },
  "language_info": {
   "codemirror_mode": {
    "name": "ipython",
    "version": 3
   },
   "file_extension": ".py",
   "mimetype": "text/x-python",
   "name": "python",
   "nbconvert_exporter": "python",
   "pygments_lexer": "ipython3",
   "version": "3.10.9"
  }
 },
 "nbformat": 4,
 "nbformat_minor": 5
}
