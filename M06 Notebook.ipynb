{
 "cells": [
  {
   "cell_type": "code",
   "execution_count": 35,
   "id": "dd17ebe7",
   "metadata": {},
   "outputs": [
    {
     "name": "stdout",
     "output_type": "stream",
     "text": [
      "Exercise 13.1\n",
      "\n"
     ]
    },
    {
     "data": {
      "text/plain": [
       "\"It's Monday, July 17, 2023, local time 07:02:43PM\""
      ]
     },
     "execution_count": 35,
     "metadata": {},
     "output_type": "execute_result"
    }
   ],
   "source": [
    "print(\"Exercise 13.1\")\n",
    "print(\"\")\n",
    "\n",
    "import time\n",
    "fmt = \"It's %A, %B %d, %Y, local time %I:%M:%S%p\"\n",
    "t = time.localtime()\n",
    "\n",
    "with open(\"today.txt\", \"w\") as text_file:\n",
    "    text_file.write(time.strftime(fmt, t))\n",
    "\n",
    "time.strftime(fmt, t)"
   ]
  },
  {
   "cell_type": "code",
   "execution_count": 34,
   "id": "9a676023",
   "metadata": {},
   "outputs": [
    {
     "name": "stdout",
     "output_type": "stream",
     "text": [
      "Exercise 13.2\n",
      "\n",
      "It's Monday, July 17, 2023, local time 03:43:52PM\n"
     ]
    }
   ],
   "source": [
    "print(\"Exercise 13.2\")\n",
    "print(\"\")\n",
    "\n",
    "with open(\"today.txt\") as text_file:\n",
    "    today_string = text_file.read()\n",
    "     \n",
    "print(today_string)"
   ]
  },
  {
   "cell_type": "code",
   "execution_count": 36,
   "id": "af20ee3a",
   "metadata": {},
   "outputs": [
    {
     "name": "stdout",
     "output_type": "stream",
     "text": [
      "Exercise 13.3\n",
      "\n"
     ]
    },
    {
     "data": {
      "text/plain": [
       "time.struct_time(tm_year=2023, tm_mon=7, tm_mday=17, tm_hour=19, tm_min=2, tm_sec=43, tm_wday=0, tm_yday=198, tm_isdst=-1)"
      ]
     },
     "execution_count": 36,
     "metadata": {},
     "output_type": "execute_result"
    }
   ],
   "source": [
    "print(\"Exercise 13.3\")\n",
    "print(\"\")\n",
    "\n",
    "import time\n",
    "\n",
    "with open(\"today.txt\") as text_file:\n",
    "    today_string = text_file.read()\n",
    "\n",
    "fmt = \"It's %A, %B %d, %Y, local time %I:%M:%S%p\"\n",
    "\n",
    "time.strptime(today_string, fmt)\n"
   ]
  },
  {
   "cell_type": "code",
   "execution_count": 60,
   "id": "4ccca106",
   "metadata": {},
   "outputs": [
    {
     "name": "stdout",
     "output_type": "stream",
     "text": [
      "Exercise 15.1\n",
      "\n",
      "It's Monday, July 17, 2023, local time 08:27:17PM\n",
      "It's Monday, July 17, 2023, local time 08:27:20PM\n",
      "It's Monday, July 17, 2023, local time 08:27:28PM\n"
     ]
    }
   ],
   "source": [
    "print(\"Exercise 15.1\")\n",
    "print(\"\")\n",
    "\n",
    "import multiprocessing\n",
    "import os\n",
    "import time\n",
    "from time import sleep\n",
    "from random import randint\n",
    "\n",
    "def three_times():\n",
    "    fmt = \"It's %A, %B %d, %Y, local time %I:%M:%S%p\"\n",
    "    t = time.localtime()\n",
    "    string_time = time.strftime(fmt, t)\n",
    "    print (string_time)\n",
    "\n",
    "if __name__ == \"__main__\":\n",
    "    for n in range(3):\n",
    "        three_times()\n",
    "        p = multiprocessing.Process(target=three_times)\n",
    "        p.start()\n",
    "        sleep(randint(1,10))\n",
    "        p.terminate()"
   ]
  },
  {
   "cell_type": "code",
   "execution_count": null,
   "id": "2c360d47",
   "metadata": {},
   "outputs": [],
   "source": []
  }
 ],
 "metadata": {
  "kernelspec": {
   "display_name": "Python 3 (ipykernel)",
   "language": "python",
   "name": "python3"
  },
  "language_info": {
   "codemirror_mode": {
    "name": "ipython",
    "version": 3
   },
   "file_extension": ".py",
   "mimetype": "text/x-python",
   "name": "python",
   "nbconvert_exporter": "python",
   "pygments_lexer": "ipython3",
   "version": "3.10.9"
  }
 },
 "nbformat": 4,
 "nbformat_minor": 5
}
