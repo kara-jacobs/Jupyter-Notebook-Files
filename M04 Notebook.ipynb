{
 "cells": [
  {
   "cell_type": "code",
   "execution_count": 1,
   "id": "45d1f78e",
   "metadata": {},
   "outputs": [
    {
     "name": "stdout",
     "output_type": "stream",
     "text": [
      "Exercise 11.1\n",
      "\n",
      "Open 9-5 daily\n"
     ]
    }
   ],
   "source": [
    "print(\"Exercise 11.1\")\n",
    "print(\"\")\n",
    "\n",
    "import zoo\n",
    "\n",
    "zoo.hours()"
   ]
  },
  {
   "cell_type": "code",
   "execution_count": 2,
   "id": "6959ac23",
   "metadata": {},
   "outputs": [
    {
     "name": "stdout",
     "output_type": "stream",
     "text": [
      "Exercise 11.2\n",
      "\n",
      "Open 9-5 daily\n"
     ]
    }
   ],
   "source": [
    "print(\"Exercise 11.2\")\n",
    "print(\"\")\n",
    "\n",
    "import zoo as menagerie\n",
    "\n",
    "menagerie.hours()"
   ]
  },
  {
   "cell_type": "code",
   "execution_count": 6,
   "id": "a7c026e8",
   "metadata": {},
   "outputs": [
    {
     "name": "stdout",
     "output_type": "stream",
     "text": [
      "Exercise 16.4 & 16.5\n",
      "\n",
      "('The Weirdstone of Brisingamen', 'Alan Garner', 1960)\n",
      "('Perdido Street Station', 'China Miéville', 2000)\n",
      "('Thud!', 'Terry Pratchett', 2005)\n",
      "('The Spellman Files', 'Lisa Lutz', 2007)\n",
      "('Small Gods', 'Terry Pratchett', 1992)\n"
     ]
    }
   ],
   "source": [
    "print(\"Exercise 16.4 & 16.5\")\n",
    "print(\"\")\n",
    "\n",
    "import sqlite3\n",
    "import pandas\n",
    "\n",
    "conn = sqlite3.connect(\"books.db\")\n",
    "curs = conn.cursor()\n",
    "curs.execute('''CREATE TABLE IF NOT EXISTS books\n",
    "    (title TEXT,\n",
    "    author TEXT,\n",
    "    year INT)''')\n",
    "\n",
    "data = pandas.read_csv(\"books2.csv\")\n",
    "data.to_sql(\"books\", conn, if_exists=\"replace\", index=False)\n",
    "\n",
    "curs.execute(\"select * from books\")\n",
    "\n",
    "records = curs.fetchall()\n",
    "\n",
    "for row in records:\n",
    "    print(row)\n",
    "    \n",
    "conn.close()"
   ]
  },
  {
   "cell_type": "code",
   "execution_count": 8,
   "id": "1e859366",
   "metadata": {},
   "outputs": [
    {
     "name": "stdout",
     "output_type": "stream",
     "text": [
      "Exercise 16.8\n",
      "\n",
      "('Perdido Street Station',)\n",
      "('Small Gods',)\n",
      "('The Spellman Files',)\n",
      "('The Weirdstone of Brisingamen',)\n",
      "('Thud!',)\n"
     ]
    }
   ],
   "source": [
    "print(\"Exercise 16.8\")\n",
    "print(\"\")\n",
    "\n",
    "import sqlalchemy as sa\n",
    "\n",
    "db_engine = sa.create_engine(\"sqlite:///books.db\")\n",
    "\n",
    "pandas.read_sql(\"SELECT * FROM books\", db_engine)\n",
    "\n",
    "rows = db_engine.execute(\"SELECT title FROM books ORDER BY title ASC\")\n",
    "\n",
    "for row in rows:\n",
    "    print(row)"
   ]
  }
 ],
 "metadata": {
  "kernelspec": {
   "display_name": "Python 3 (ipykernel)",
   "language": "python",
   "name": "python3"
  },
  "language_info": {
   "codemirror_mode": {
    "name": "ipython",
    "version": 3
   },
   "file_extension": ".py",
   "mimetype": "text/x-python",
   "name": "python",
   "nbconvert_exporter": "python",
   "pygments_lexer": "ipython3",
   "version": "3.10.9"
  }
 },
 "nbformat": 4,
 "nbformat_minor": 5
}
