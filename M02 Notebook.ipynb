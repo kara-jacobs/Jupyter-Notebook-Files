{
 "cells": [
  {
   "cell_type": "code",
   "execution_count": 60,
   "id": "dc7a4d20",
   "metadata": {},
   "outputs": [
    {
     "name": "stdout",
     "output_type": "stream",
     "text": [
      "Exercise 4.1\n",
      "\n",
      "too low\n"
     ]
    }
   ],
   "source": [
    "print(\"Exercise 4.1\")\n",
    "print(\"\")\n",
    "\n",
    "secret = 7\n",
    "guess = 3\n",
    "\n",
    "if guess < secret:\n",
    "    print(\"too low\")\n",
    "elif guess > secret:\n",
    "    print(\"too high\")\n",
    "else:\n",
    "    print(\"just right\")"
   ]
  },
  {
   "cell_type": "code",
   "execution_count": 61,
   "id": "d9164ffa",
   "metadata": {},
   "outputs": [
    {
     "name": "stdout",
     "output_type": "stream",
     "text": [
      "Exercise 4.2\n",
      "\n",
      "It's a cherry.\n"
     ]
    }
   ],
   "source": [
    "print(\"Exercise 4.2\")\n",
    "print(\"\")\n",
    "\n",
    "small = True\n",
    "green = False\n",
    "\n",
    "if small:\n",
    "    if green:\n",
    "        print(\"It's a pea.\")\n",
    "    else:\n",
    "        print(\"It's a cherry.\")\n",
    "else:\n",
    "    if green:\n",
    "        print(\"It's a watermelon.\")\n",
    "    else:\n",
    "        print(\"It's a pumpkin.\")\n",
    "    "
   ]
  },
  {
   "cell_type": "code",
   "execution_count": 62,
   "id": "86406848",
   "metadata": {},
   "outputs": [
    {
     "name": "stdout",
     "output_type": "stream",
     "text": [
      "Exercise 6.1\n",
      "\n",
      "3\n",
      "2\n",
      "1\n",
      "0\n"
     ]
    }
   ],
   "source": [
    "print(\"Exercise 6.1\")\n",
    "print(\"\")\n",
    "\n",
    "numbers = [3,2,1,0]\n",
    "for x in numbers:\n",
    "    print(x)"
   ]
  },
  {
   "cell_type": "code",
   "execution_count": 63,
   "id": "fad678c3",
   "metadata": {},
   "outputs": [
    {
     "name": "stdout",
     "output_type": "stream",
     "text": [
      "Exercise 6.2\n",
      "\n",
      "too low\n",
      "too low\n",
      "too low\n",
      "too low\n",
      "too low\n",
      "too low\n",
      "found it!\n"
     ]
    }
   ],
   "source": [
    "print(\"Exercise 6.2\")\n",
    "print(\"\")\n",
    "\n",
    "guess_me = 7\n",
    "number = 1\n",
    "\n",
    "while True:\n",
    "    if number < guess_me:\n",
    "        print(\"too low\")\n",
    "    elif number == guess_me:\n",
    "        print(\"found it!\")\n",
    "        break\n",
    "    elif number > guess_me:\n",
    "        print(\"oops\")\n",
    "        break\n",
    "    number += 1"
   ]
  },
  {
   "cell_type": "code",
   "execution_count": 64,
   "id": "0d734d18",
   "metadata": {},
   "outputs": [
    {
     "name": "stdout",
     "output_type": "stream",
     "text": [
      "Exercise 6.3\n",
      "\n",
      "0 is too low\n",
      "1 is too low\n",
      "2 is too low\n",
      "3 is too low\n",
      "4 is too low\n",
      "found it!\n"
     ]
    }
   ],
   "source": [
    "print(\"Exercise 6.3\")\n",
    "print(\"\")\n",
    "\n",
    "guess_me = 5\n",
    "\n",
    "for number in range(10):\n",
    "    if number < guess_me:\n",
    "        print(str(number) + \" is too low\")\n",
    "    elif number == guess_me:\n",
    "        print(\"found it!\")\n",
    "        break\n",
    "    elif number > guess_me:\n",
    "        print(\"oops\")\n",
    "        break"
   ]
  }
 ],
 "metadata": {
  "kernelspec": {
   "display_name": "Python 3 (ipykernel)",
   "language": "python",
   "name": "python3"
  },
  "language_info": {
   "codemirror_mode": {
    "name": "ipython",
    "version": 3
   },
   "file_extension": ".py",
   "mimetype": "text/x-python",
   "name": "python",
   "nbconvert_exporter": "python",
   "pygments_lexer": "ipython3",
   "version": "3.10.9"
  }
 },
 "nbformat": 4,
 "nbformat_minor": 5
}
